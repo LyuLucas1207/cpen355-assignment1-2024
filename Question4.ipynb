{
 "cells": [
  {
   "metadata": {
    "ExecuteTime": {
     "end_time": "2024-10-16T06:30:49.878940Z",
     "start_time": "2024-10-16T06:30:45.796405Z"
    }
   },
   "cell_type": "code",
   "source": [
    "from sklearn.datasets import fetch_openml\n",
    "from sklearn.model_selection import train_test_split\n",
    "mnist = fetch_openml('mnist_784', version=1, data_home='./Data')"
   ],
   "id": "d93de6ad4c9c32a5",
   "outputs": [],
   "execution_count": 2
  },
  {
   "metadata": {
    "ExecuteTime": {
     "end_time": "2024-10-16T06:32:32.792166Z",
     "start_time": "2024-10-16T06:32:31.553320Z"
    }
   },
   "cell_type": "code",
   "source": [
    "# transform the data to numpy array\n",
    "X = mnist.data.to_numpy()\n",
    "y = mnist.target.to_numpy().astype(int)  # 确保标签为整数类型\n",
    "# first 70% as training set, 30% as temporary set\n",
    "X_train, X_temp, y_train, y_temp = train_test_split(X, y, test_size=0.3, random_state=42)\n",
    "# Second 20% as validation set, 10% as test set\n",
    "X_val, X_test, y_val, y_test = train_test_split(X_temp, y_temp, test_size=1/3, random_state=42)\n",
    "# Output the shape of each set and percentage\n",
    "print(f\"Training set: X_train: {X_train.shape}, y_train: {y_train.shape}, {len(y_train)/len(y)*100:.2f}%\")\n",
    "print(f\"Validation set: X_val: {X_val.shape}, y_val: {y_val.shape}, {len(y_val)/len(y)*100:.2f}%\")\n",
    "print(f\"Test set: X_test: {X_test.shape}, y_test: {y_test.shape}, {len(y_test)/len(y)*100:.2f}%\")"
   ],
   "id": "37ed4b77f4da595d",
   "outputs": [
    {
     "name": "stdout",
     "output_type": "stream",
     "text": [
      "Training set: X_train: (49000, 784), y_train: (49000,), 70.00%\n",
      "Validation set: X_val: (14000, 784), y_val: (14000,), 20.00%\n",
      "Test set: X_test: (7000, 784), y_test: (7000,), 10.00%\n"
     ]
    }
   ],
   "execution_count": 5
  }
 ],
 "metadata": {
  "kernelspec": {
   "display_name": "Python 3",
   "language": "python",
   "name": "python3"
  },
  "language_info": {
   "codemirror_mode": {
    "name": "ipython",
    "version": 2
   },
   "file_extension": ".py",
   "mimetype": "text/x-python",
   "name": "python",
   "nbconvert_exporter": "python",
   "pygments_lexer": "ipython2",
   "version": "2.7.6"
  }
 },
 "nbformat": 4,
 "nbformat_minor": 5
}
