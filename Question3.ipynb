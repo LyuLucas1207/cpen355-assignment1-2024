{
 "cells": [
  {
   "metadata": {
    "ExecuteTime": {
     "end_time": "2024-10-23T20:38:30.133558Z",
     "start_time": "2024-10-23T20:38:27.368302Z"
    }
   },
   "cell_type": "code",
   "source": [
    "from sklearn.datasets import fetch_openml\n",
    "import matplotlib.pyplot as plt\n",
    "import numpy as np\n",
    "mnist = fetch_openml('mnist_784', version=1, data_home='./Data')"
   ],
   "id": "8fd38e4ffdb23850",
   "outputs": [],
   "execution_count": 9
  },
  {
   "metadata": {
    "ExecuteTime": {
     "end_time": "2024-10-23T20:38:30.216677Z",
     "start_time": "2024-10-23T20:38:30.138604Z"
    }
   },
   "cell_type": "code",
   "source": [
    "# Randomly select an image from the dataset\n",
    "random_index = np.random.randint(0, mnist.data.shape[0])\n",
    "# Gain the image and label, Use iloc to get the data\n",
    "image = np.array(mnist.data.iloc[random_index]).reshape(28, 28)  \n",
    "label = int(mnist.target[random_index])  # Convert the label to int\n",
    "# Plot the image\n",
    "plt.imshow(image, cmap='gray')\n",
    "plt.title(f'Label: {label}')\n",
    "plt.axis('off')  # Hide the axis\n",
    "plt.show()\n"
   ],
   "id": "b40b4cf457b8c610",
   "outputs": [
    {
     "data": {
      "text/plain": [
       "<Figure size 640x480 with 1 Axes>"
      ],
      "image/png": "[encoded data removed]"
     },
     "metadata": {},
     "output_type": "display_data"
    }
   ],
   "execution_count": 10
  }
 ],
 "metadata": {
  "kernelspec": {
   "display_name": "Python 3",
   "language": "python",
   "name": "python3"
  },
  "language_info": {
   "codemirror_mode": {
    "name": "ipython",
    "version": 2
   },
   "file_extension": ".py",
   "mimetype": "text/x-python",
   "name": "python",
   "nbconvert_exporter": "python",
   "pygments_lexer": "ipython2",
   "version": "2.7.6"
  }
 },
 "nbformat": 4,
 "nbformat_minor": 5
}
