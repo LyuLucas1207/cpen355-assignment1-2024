{
 "cells": [
  {
   "cell_type": "code",
   "execution_count": null,
   "id": "initial_id",
   "metadata": {
    "collapsed": true
   },
   "outputs": [],
   "source": [
    "from sklearn.svm import SVC\n",
    "from sklearn.datasets import fetch_openml\n",
    "from sklearn.model_selection import train_test_split\n",
    "import numpy as np\n",
    "\n",
    "# 加载 MNIST 数据集\n",
    "mnist = fetch_openml('mnist_784', version=1, data_home='./Data')\n",
    "\n",
    "# 将数据和标签转换为 NumPy 数组\n",
    "X = mnist.data.to_numpy()\n",
    "y = mnist.target.to_numpy().astype(int)  # 标签转换为整数类型\n",
    "\n",
    "# 第一步：拆分出训练集和临时集（70% 训练集，30% 临时集）\n",
    "X_train, X_temp, y_train, y_temp = train_test_split(X, y, test_size=0.3, random_state=42)\n",
    "\n",
    "# 第二步：将临时集拆分为验证集和测试集（20% 验证集，10% 测试集）\n",
    "X_val, X_test, y_val, y_test = train_test_split(X_temp, y_temp, test_size=1/3, random_state=42)\n",
    "\n",
    "# 初始化 SVM 模型，使用 RBF 核\n",
    "svc = SVC(kernel='rbf', C=1.0, gamma='scale')\n",
    "\n",
    "# 在训练数据上训练模型\n",
    "svc.fit(X_train, y_train)\n",
    "\n",
    "# 输出训练集上的准确度\n",
    "train_accuracy = svc.score(X_train, y_train)\n",
    "print(f'Training Accuracy: {train_accuracy:.2f}')"
   ]
  }
 ],
 "metadata": {
  "kernelspec": {
   "display_name": "Python 3",
   "language": "python",
   "name": "python3"
  },
  "language_info": {
   "codemirror_mode": {
    "name": "ipython",
    "version": 2
   },
   "file_extension": ".py",
   "mimetype": "text/x-python",
   "name": "python",
   "nbconvert_exporter": "python",
   "pygments_lexer": "ipython2",
   "version": "2.7.6"
  }
 },
 "nbformat": 4,
 "nbformat_minor": 5
}
