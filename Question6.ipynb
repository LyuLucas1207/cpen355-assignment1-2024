{
 "cells": [
  {
   "cell_type": "code",
   "id": "initial_id",
   "metadata": {
    "collapsed": true,
    "ExecuteTime": {
     "end_time": "2024-10-24T00:43:40.555161Z",
     "start_time": "2024-10-24T00:29:42.211965Z"
    }
   },
   "source": [
    "from sklearn.svm import SVC\n",
    "from sklearn.datasets import fetch_openml\n",
    "from sklearn.model_selection import train_test_split\n",
    "import numpy as np\n",
    "# Load MNIST dataset\n",
    "mnist = fetch_openml('mnist_784', version=1, data_home='./Data')\n",
    "# change the type of data to numpy array\n",
    "X = mnist.data.to_numpy()\n",
    "y = mnist.target.to_numpy().astype(int)  # change the type of target to integer\n",
    "# Step 1: Split the dataset into training set and temporary set (70% training set, 30% temporary set)\n",
    "X_train, X_temp, y_train, y_temp = train_test_split(X, y, test_size=0.3, random_state=520)\n",
    "# Step 2: Split the temporary set into validation set and test set (20% validation set, 10% test set)\n",
    "X_val, X_test, y_val, y_test = train_test_split(X_temp, y_temp, test_size=1/3, random_state=520)\n",
    "# Step 3: Train the model with training set and evaluate the model with validation set\n",
    "svc = SVC(kernel='rbf', C=1.0, gamma='scale')\n",
    "# train the model\n",
    "svc.fit(X_train, y_train)\n",
    "# output the accuracy of the model\n",
    "train_accuracy = svc.score(X_train, y_train)\n",
    "print(f'Training Accuracy: {train_accuracy:.2f}')"
   ],
   "outputs": [
    {
     "name": "stdout",
     "output_type": "stream",
     "text": [
      "Training Accuracy: 0.99\n"
     ]
    }
   ],
   "execution_count": 1
  }
 ],
 "metadata": {
  "kernelspec": {
   "display_name": "Python 3",
   "language": "python",
   "name": "python3"
  },
  "language_info": {
   "codemirror_mode": {
    "name": "ipython",
    "version": 2
   },
   "file_extension": ".py",
   "mimetype": "text/x-python",
   "name": "python",
   "nbconvert_exporter": "python",
   "pygments_lexer": "ipython2",
   "version": "2.7.6"
  }
 },
 "nbformat": 4,
 "nbformat_minor": 5
}
